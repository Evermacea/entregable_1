{
 "cells": [
  {
   "cell_type": "markdown",
   "metadata": {},
   "source": [
    "## **LIBRERÍAS**"
   ]
  },
  {
   "cell_type": "code",
   "execution_count": 1,
   "metadata": {},
   "outputs": [
    {
     "name": "stderr",
     "output_type": "stream",
     "text": [
      "/home/codespace/.local/lib/python3.12/site-packages/tqdm-4.67.1-py3.12.egg/tqdm/auto.py:21: TqdmWarning: IProgress not found. Please update jupyter and ipywidgets. See https://ipywidgets.readthedocs.io/en/stable/user_install.html\n",
      "  from .autonotebook import tqdm as notebook_tqdm\n"
     ]
    }
   ],
   "source": [
    "import matplotlib\n",
    "import matplotlib.pyplot as plt\n",
    "import pandas as pd\n",
    "from pad_clase import Pad_clase\n",
    "%matplotlib inline\n",
    "import os\n"
   ]
  },
  {
   "cell_type": "markdown",
   "metadata": {},
   "source": [
    "**EJERCICIO 1**"
   ]
  },
  {
   "cell_type": "code",
   "execution_count": 2,
   "metadata": {},
   "outputs": [],
   "source": [
    "# from actividad_3 import Actividad_3\n",
    "# import pandas as pd\n",
    "\n",
    "# # Instanciamos la clase para acceder a la ruta de guardado\n",
    "# actividad = Actividad_3()\n",
    "# ruta_guardado = actividad.ruta_guardado  # Obtenemos la ruta completa\n",
    "\n",
    "# # Creamos el DataFrame con los datos\n",
    "# datos1 = {\n",
    "#     'Granadilla': [20],\n",
    "#     'Tomates': [50]    \n",
    "# }\n",
    "# d1 = pd.DataFrame(datos1)\n",
    "\n",
    "# # Guardamos en Excel\n",
    "# d1.to_excel(ruta_guardado, sheet_name=\"Hoja1\", index=False, engine=\"openpyxl\")"
   ]
  },
  {
   "cell_type": "markdown",
   "metadata": {},
   "source": [
    "**EJERCICIO 2**"
   ]
  },
  {
   "cell_type": "code",
   "execution_count": null,
   "metadata": {},
   "outputs": [
    {
     "data": {
      "text/html": [
       "<div>\n",
       "<style scoped>\n",
       "    .dataframe tbody tr th:only-of-type {\n",
       "        vertical-align: middle;\n",
       "    }\n",
       "\n",
       "    .dataframe tbody tr th {\n",
       "        vertical-align: top;\n",
       "    }\n",
       "\n",
       "    .dataframe thead th {\n",
       "        text-align: right;\n",
       "    }\n",
       "</style>\n",
       "<table border=\"1\" class=\"dataframe\">\n",
       "  <thead>\n",
       "    <tr style=\"text-align: right;\">\n",
       "      <th></th>\n",
       "      <th>Granadilla</th>\n",
       "      <th>Tomates</th>\n",
       "    </tr>\n",
       "  </thead>\n",
       "  <tbody>\n",
       "    <tr>\n",
       "      <th>ventas 2021</th>\n",
       "      <td>20</td>\n",
       "      <td>50</td>\n",
       "    </tr>\n",
       "    <tr>\n",
       "      <th>ventas 2022</th>\n",
       "      <td>49</td>\n",
       "      <td>100</td>\n",
       "    </tr>\n",
       "  </tbody>\n",
       "</table>\n",
       "</div>"
      ],
      "text/plain": [
       "             Granadilla  Tomates\n",
       "ventas 2021          20       50\n",
       "ventas 2022          49      100"
      ]
     },
     "execution_count": 58,
     "metadata": {},
     "output_type": "execute_result"
    }
   ],
   "source": [
    "d2 =pd.DataFrame({\n",
    "    'Granadilla': [20, 49],\n",
    "    'Tomates': [50, 100]    \n",
    "}, index =['ventas 2021','ventas 2022'])\n",
    "d2"
   ]
  },
  {
   "cell_type": "markdown",
   "metadata": {},
   "source": [
    "**EJERCICIO 3**"
   ]
  },
  {
   "cell_type": "code",
   "execution_count": null,
   "metadata": {},
   "outputs": [
    {
     "name": "stdout",
     "output_type": "stream",
     "text": [
      "Cuchara     3 unidades\n",
      "Tenedor     2 unidades\n",
      "Cuchillo    4 unidades\n",
      "Plato       5 unidades\n",
      "Name: Cocina, dtype: object\n"
     ]
    }
   ],
   "source": [
    "utensilios = pd.Series(\n",
    "    [\"3 unidades\", \"2 unidades\", \"4 unidades\", \"5 unidades\"],\n",
    "    index=[\"Cuchara\", \"Tenedor\", \"Cuchillo\", \"Plato\"],\n",
    "    name=\"Cocina\"\n",
    ")\n",
    "\n",
    "print(utensilios)"
   ]
  },
  {
   "cell_type": "code",
   "execution_count": null,
   "metadata": {},
   "outputs": [],
   "source": [
    "# ruta_guardado = \"src/pad/actividad_3/resultados.xlsx\"\n",
    "# os.makedirs(os.path.dirname(ruta_guardado), exist_ok=True)\n",
    "# # Guardar ambos en el mismo archivo Excel en hojas diferentes\n",
    "# with pd.ExcelWriter(ruta_guardado, engine='openpyxl') as writer:\n",
    "#     d1.to_excel(writer, sheet_name=\"Ejercicio_1\", index=False)\n",
    "#     d2.to_excel(writer, sheet_name=\"Ejercicio_2\", index=False)\n",
    "\n",
    "# print(f\"Archivo guardado en: {ruta_guardado}\")"
   ]
  },
  {
   "cell_type": "markdown",
   "metadata": {},
   "source": [
    "**EJERCICIO 4**\n",
    "OBTENER INFORMACIÓN DE kaggle Y CONSTRUIR EL DATAFRAME"
   ]
  },
  {
   "cell_type": "code",
   "execution_count": 4,
   "metadata": {},
   "outputs": [
    {
     "name": "stdout",
     "output_type": "stream",
     "text": [
      "Descargando dataset desde Kaggle...\n",
      "Ruta al dataset: /home/codespace/.cache/kagglehub/datasets/zynicide/wine-reviews/versions/4\n",
      "No se encontró archivo ZIP pero se detectaron archivos CSV; se asume que el dataset ya se encuentra extraído.\n",
      "Leyendo /home/codespace/.cache/kagglehub/datasets/zynicide/wine-reviews/versions/4/winemag-data_first150k.csv...\n",
      "Creando/actualizando \n",
      "Leyendo /home/codespace/.cache/kagglehub/datasets/zynicide/wine-reviews/versions/4/winemag-data-130k-v2.csv...\n",
      "Creando/actualizando \n",
      "cvs creado correctamente en \n",
      "<class 'pandas.core.frame.DataFrame'>\n",
      "RangeIndex: 129971 entries, 0 to 129970\n",
      "Data columns (total 14 columns):\n",
      " #   Column                 Non-Null Count   Dtype  \n",
      "---  ------                 --------------   -----  \n",
      " 0   Unnamed: 0             129971 non-null  int64  \n",
      " 1   country                129908 non-null  object \n",
      " 2   description            129971 non-null  object \n",
      " 3   designation            92506 non-null   object \n",
      " 4   points                 129971 non-null  int64  \n",
      " 5   price                  120975 non-null  float64\n",
      " 6   province               129908 non-null  object \n",
      " 7   region_1               108724 non-null  object \n",
      " 8   region_2               50511 non-null   object \n",
      " 9   taster_name            103727 non-null  object \n",
      " 10  taster_twitter_handle  98758 non-null   object \n",
      " 11  title                  129971 non-null  object \n",
      " 12  variety                129970 non-null  object \n",
      " 13  winery                 129971 non-null  object \n",
      "dtypes: float64(1), int64(2), object(11)\n",
      "memory usage: 13.9+ MB\n",
      "          Unnamed: 0         points          price\n",
      "count  129971.000000  129971.000000  120975.000000\n",
      "mean    64985.000000      88.447138      35.363389\n",
      "std     37519.540256       3.039730      41.022218\n",
      "min         0.000000      80.000000       4.000000\n",
      "25%     32492.500000      86.000000      17.000000\n",
      "50%     64985.000000      88.000000      25.000000\n",
      "75%     97477.500000      91.000000      42.000000\n",
      "max    129970.000000     100.000000    3300.000000 <bound method DataFrame.count of         Unnamed: 0   country  \\\n",
      "0                0     Italy   \n",
      "1                1  Portugal   \n",
      "2                2        US   \n",
      "3                3        US   \n",
      "4                4        US   \n",
      "...            ...       ...   \n",
      "129966      129966   Germany   \n",
      "129967      129967        US   \n",
      "129968      129968    France   \n",
      "129969      129969    France   \n",
      "129970      129970    France   \n",
      "\n",
      "                                              description  \\\n",
      "0       Aromas include tropical fruit, broom, brimston...   \n",
      "1       This is ripe and fruity, a wine that is smooth...   \n",
      "2       Tart and snappy, the flavors of lime flesh and...   \n",
      "3       Pineapple rind, lemon pith and orange blossom ...   \n",
      "4       Much like the regular bottling from 2012, this...   \n",
      "...                                                   ...   \n",
      "129966  Notes of honeysuckle and cantaloupe sweeten th...   \n",
      "129967  Citation is given as much as a decade of bottl...   \n",
      "129968  Well-drained gravel soil gives this wine its c...   \n",
      "129969  A dry style of Pinot Gris, this is crisp with ...   \n",
      "129970  Big, rich and off-dry, this is powered by inte...   \n",
      "\n",
      "                                    designation  points  price  \\\n",
      "0                                 VulkÃ  Bianco      87    NaN   \n",
      "1                                      Avidagos      87   15.0   \n",
      "2                                           NaN      87   14.0   \n",
      "3                          Reserve Late Harvest      87   13.0   \n",
      "4            Vintner's Reserve Wild Child Block      87   65.0   \n",
      "...                                         ...     ...    ...   \n",
      "129966  Brauneberger Juffer-Sonnenuhr SpÃ¤tlese      90   28.0   \n",
      "129967                                      NaN      90   75.0   \n",
      "129968                                    Kritt      90   30.0   \n",
      "129969                                      NaN      90   32.0   \n",
      "129970           Lieu-dit Harth CuvÃ©e Caroline      90   21.0   \n",
      "\n",
      "                 province             region_1           region_2  \\\n",
      "0       Sicily & Sardinia                 Etna                NaN   \n",
      "1                   Douro                  NaN                NaN   \n",
      "2                  Oregon    Willamette Valley  Willamette Valley   \n",
      "3                Michigan  Lake Michigan Shore                NaN   \n",
      "4                  Oregon    Willamette Valley  Willamette Valley   \n",
      "...                   ...                  ...                ...   \n",
      "129966              Mosel                  NaN                NaN   \n",
      "129967             Oregon               Oregon       Oregon Other   \n",
      "129968             Alsace               Alsace                NaN   \n",
      "129969             Alsace               Alsace                NaN   \n",
      "129970             Alsace               Alsace                NaN   \n",
      "\n",
      "               taster_name taster_twitter_handle  \\\n",
      "0          Kerin OâKeefe          @kerinokeefe   \n",
      "1               Roger Voss            @vossroger   \n",
      "2             Paul Gregutt          @paulgwineÂ    \n",
      "3       Alexander Peartree                   NaN   \n",
      "4             Paul Gregutt          @paulgwineÂ    \n",
      "...                    ...                   ...   \n",
      "129966  Anna Lee C. Iijima                   NaN   \n",
      "129967        Paul Gregutt          @paulgwineÂ    \n",
      "129968          Roger Voss            @vossroger   \n",
      "129969          Roger Voss            @vossroger   \n",
      "129970          Roger Voss            @vossroger   \n",
      "\n",
      "                                                    title          variety  \\\n",
      "0                      Nicosia 2013 VulkÃ  Bianco  (Etna)      White Blend   \n",
      "1           Quinta dos Avidagos 2011 Avidagos Red (Douro)   Portuguese Red   \n",
      "2           Rainstorm 2013 Pinot Gris (Willamette Valley)       Pinot Gris   \n",
      "3       St. Julian 2013 Reserve Late Harvest Riesling ...         Riesling   \n",
      "4       Sweet Cheeks 2012 Vintner's Reserve Wild Child...       Pinot Noir   \n",
      "...                                                   ...              ...   \n",
      "129966  Dr. H. Thanisch (Erben MÃ¼ller-Burggraef) 2013...         Riesling   \n",
      "129967                  Citation 2004 Pinot Noir (Oregon)       Pinot Noir   \n",
      "129968  Domaine Gresser 2013 Kritt Gewurztraminer (Als...  GewÃ¼rztraminer   \n",
      "129969      Domaine Marcel Deiss 2012 Pinot Gris (Alsace)       Pinot Gris   \n",
      "129970  Domaine Schoffit 2012 Lieu-dit Harth CuvÃ©e Ca...  GewÃ¼rztraminer   \n",
      "\n",
      "                                           winery  \n",
      "0                                         Nicosia  \n",
      "1                             Quinta dos Avidagos  \n",
      "2                                       Rainstorm  \n",
      "3                                      St. Julian  \n",
      "4                                    Sweet Cheeks  \n",
      "...                                           ...  \n",
      "129966  Dr. H. Thanisch (Erben MÃ¼ller-Burggraef)  \n",
      "129967                                   Citation  \n",
      "129968                            Domaine Gresser  \n",
      "129969                       Domaine Marcel Deiss  \n",
      "129970                           Domaine Schoffit  \n",
      "\n",
      "[129971 rows x 14 columns]> None\n"
     ]
    }
   ],
   "source": [
    "padclase = Pad_clase()          \n",
    "dataset_path = padclase.download_dataset_zip()\n",
    "csv_dir = padclase.extract_zip_files(dataset_path)\n",
    "df = padclase.create_csv(csv_dir)\n",
    "print(df.describe(),df.count,df.info())"
   ]
  },
  {
   "cell_type": "markdown",
   "metadata": {},
   "source": [
    "**EJERCICIO 5**\n",
    "Visualización de las primeras filas"
   ]
  },
  {
   "cell_type": "code",
   "execution_count": 7,
   "metadata": {},
   "outputs": [
    {
     "data": {
      "text/html": [
       "<div>\n",
       "<style scoped>\n",
       "    .dataframe tbody tr th:only-of-type {\n",
       "        vertical-align: middle;\n",
       "    }\n",
       "\n",
       "    .dataframe tbody tr th {\n",
       "        vertical-align: top;\n",
       "    }\n",
       "\n",
       "    .dataframe thead th {\n",
       "        text-align: right;\n",
       "    }\n",
       "</style>\n",
       "<table border=\"1\" class=\"dataframe\">\n",
       "  <thead>\n",
       "    <tr style=\"text-align: right;\">\n",
       "      <th></th>\n",
       "      <th>Unnamed: 0</th>\n",
       "      <th>country</th>\n",
       "      <th>description</th>\n",
       "      <th>designation</th>\n",
       "      <th>points</th>\n",
       "      <th>price</th>\n",
       "      <th>province</th>\n",
       "      <th>region_1</th>\n",
       "      <th>region_2</th>\n",
       "      <th>taster_name</th>\n",
       "      <th>taster_twitter_handle</th>\n",
       "      <th>title</th>\n",
       "      <th>variety</th>\n",
       "      <th>winery</th>\n",
       "    </tr>\n",
       "  </thead>\n",
       "  <tbody>\n",
       "    <tr>\n",
       "      <th>0</th>\n",
       "      <td>0</td>\n",
       "      <td>Italy</td>\n",
       "      <td>Aromas include tropical fruit, broom, brimston...</td>\n",
       "      <td>VulkÃ  Bianco</td>\n",
       "      <td>87</td>\n",
       "      <td>NaN</td>\n",
       "      <td>Sicily &amp; Sardinia</td>\n",
       "      <td>Etna</td>\n",
       "      <td>NaN</td>\n",
       "      <td>Kerin OâKeefe</td>\n",
       "      <td>@kerinokeefe</td>\n",
       "      <td>Nicosia 2013 VulkÃ  Bianco  (Etna)</td>\n",
       "      <td>White Blend</td>\n",
       "      <td>Nicosia</td>\n",
       "    </tr>\n",
       "    <tr>\n",
       "      <th>1</th>\n",
       "      <td>1</td>\n",
       "      <td>Portugal</td>\n",
       "      <td>This is ripe and fruity, a wine that is smooth...</td>\n",
       "      <td>Avidagos</td>\n",
       "      <td>87</td>\n",
       "      <td>15.0</td>\n",
       "      <td>Douro</td>\n",
       "      <td>NaN</td>\n",
       "      <td>NaN</td>\n",
       "      <td>Roger Voss</td>\n",
       "      <td>@vossroger</td>\n",
       "      <td>Quinta dos Avidagos 2011 Avidagos Red (Douro)</td>\n",
       "      <td>Portuguese Red</td>\n",
       "      <td>Quinta dos Avidagos</td>\n",
       "    </tr>\n",
       "    <tr>\n",
       "      <th>2</th>\n",
       "      <td>2</td>\n",
       "      <td>US</td>\n",
       "      <td>Tart and snappy, the flavors of lime flesh and...</td>\n",
       "      <td>NaN</td>\n",
       "      <td>87</td>\n",
       "      <td>14.0</td>\n",
       "      <td>Oregon</td>\n",
       "      <td>Willamette Valley</td>\n",
       "      <td>Willamette Valley</td>\n",
       "      <td>Paul Gregutt</td>\n",
       "      <td>@paulgwineÂ</td>\n",
       "      <td>Rainstorm 2013 Pinot Gris (Willamette Valley)</td>\n",
       "      <td>Pinot Gris</td>\n",
       "      <td>Rainstorm</td>\n",
       "    </tr>\n",
       "    <tr>\n",
       "      <th>3</th>\n",
       "      <td>3</td>\n",
       "      <td>US</td>\n",
       "      <td>Pineapple rind, lemon pith and orange blossom ...</td>\n",
       "      <td>Reserve Late Harvest</td>\n",
       "      <td>87</td>\n",
       "      <td>13.0</td>\n",
       "      <td>Michigan</td>\n",
       "      <td>Lake Michigan Shore</td>\n",
       "      <td>NaN</td>\n",
       "      <td>Alexander Peartree</td>\n",
       "      <td>NaN</td>\n",
       "      <td>St. Julian 2013 Reserve Late Harvest Riesling ...</td>\n",
       "      <td>Riesling</td>\n",
       "      <td>St. Julian</td>\n",
       "    </tr>\n",
       "    <tr>\n",
       "      <th>4</th>\n",
       "      <td>4</td>\n",
       "      <td>US</td>\n",
       "      <td>Much like the regular bottling from 2012, this...</td>\n",
       "      <td>Vintner's Reserve Wild Child Block</td>\n",
       "      <td>87</td>\n",
       "      <td>65.0</td>\n",
       "      <td>Oregon</td>\n",
       "      <td>Willamette Valley</td>\n",
       "      <td>Willamette Valley</td>\n",
       "      <td>Paul Gregutt</td>\n",
       "      <td>@paulgwineÂ</td>\n",
       "      <td>Sweet Cheeks 2012 Vintner's Reserve Wild Child...</td>\n",
       "      <td>Pinot Noir</td>\n",
       "      <td>Sweet Cheeks</td>\n",
       "    </tr>\n",
       "  </tbody>\n",
       "</table>\n",
       "</div>"
      ],
      "text/plain": [
       "   Unnamed: 0   country                                        description  \\\n",
       "0           0     Italy  Aromas include tropical fruit, broom, brimston...   \n",
       "1           1  Portugal  This is ripe and fruity, a wine that is smooth...   \n",
       "2           2        US  Tart and snappy, the flavors of lime flesh and...   \n",
       "3           3        US  Pineapple rind, lemon pith and orange blossom ...   \n",
       "4           4        US  Much like the regular bottling from 2012, this...   \n",
       "\n",
       "                          designation  points  price           province  \\\n",
       "0                       VulkÃ  Bianco      87    NaN  Sicily & Sardinia   \n",
       "1                            Avidagos      87   15.0              Douro   \n",
       "2                                 NaN      87   14.0             Oregon   \n",
       "3                Reserve Late Harvest      87   13.0           Michigan   \n",
       "4  Vintner's Reserve Wild Child Block      87   65.0             Oregon   \n",
       "\n",
       "              region_1           region_2         taster_name  \\\n",
       "0                 Etna                NaN     Kerin OâKeefe   \n",
       "1                  NaN                NaN          Roger Voss   \n",
       "2    Willamette Valley  Willamette Valley        Paul Gregutt   \n",
       "3  Lake Michigan Shore                NaN  Alexander Peartree   \n",
       "4    Willamette Valley  Willamette Valley        Paul Gregutt   \n",
       "\n",
       "  taster_twitter_handle                                              title  \\\n",
       "0          @kerinokeefe                 Nicosia 2013 VulkÃ  Bianco  (Etna)   \n",
       "1            @vossroger      Quinta dos Avidagos 2011 Avidagos Red (Douro)   \n",
       "2          @paulgwineÂ       Rainstorm 2013 Pinot Gris (Willamette Valley)   \n",
       "3                   NaN  St. Julian 2013 Reserve Late Harvest Riesling ...   \n",
       "4          @paulgwineÂ   Sweet Cheeks 2012 Vintner's Reserve Wild Child...   \n",
       "\n",
       "          variety               winery  \n",
       "0     White Blend              Nicosia  \n",
       "1  Portuguese Red  Quinta dos Avidagos  \n",
       "2      Pinot Gris            Rainstorm  \n",
       "3        Riesling           St. Julian  \n",
       "4      Pinot Noir         Sweet Cheeks  "
      ]
     },
     "execution_count": 7,
     "metadata": {},
     "output_type": "execute_result"
    }
   ],
   "source": [
    "df.head()"
   ]
  },
  {
   "cell_type": "markdown",
   "metadata": {},
   "source": [
    "**EJERCICIO 6**\n",
    "Usar el método info() para saber cuántas entradas hay"
   ]
  },
  {
   "cell_type": "code",
   "execution_count": null,
   "metadata": {},
   "outputs": [
    {
     "name": "stdout",
     "output_type": "stream",
     "text": [
      "<class 'pandas.core.frame.DataFrame'>\n",
      "RangeIndex: 129971 entries, 0 to 129970\n",
      "Data columns (total 14 columns):\n",
      " #   Column                 Non-Null Count   Dtype  \n",
      "---  ------                 --------------   -----  \n",
      " 0   Unnamed: 0             129971 non-null  int64  \n",
      " 1   country                129908 non-null  object \n",
      " 2   description            129971 non-null  object \n",
      " 3   designation            92506 non-null   object \n",
      " 4   points                 129971 non-null  int64  \n",
      " 5   price                  120975 non-null  float64\n",
      " 6   province               129908 non-null  object \n",
      " 7   region_1               108724 non-null  object \n",
      " 8   region_2               50511 non-null   object \n",
      " 9   taster_name            103727 non-null  object \n",
      " 10  taster_twitter_handle  98758 non-null   object \n",
      " 11  title                  129971 non-null  object \n",
      " 12  variety                129970 non-null  object \n",
      " 13  winery                 129971 non-null  object \n",
      "dtypes: float64(1), int64(2), object(11)\n",
      "memory usage: 13.9+ MB\n",
      "El DataFrame tiene 129971 entradas.\n"
     ]
    }
   ],
   "source": [
    "df.info()\n",
    "num_entradas = df.shape[0]\n",
    "print(f\"El DataFrame tiene {num_entradas} entradas.\")\n"
   ]
  },
  {
   "cell_type": "markdown",
   "metadata": {},
   "source": [
    "**EJERCICIO 7**\n",
    "Precio promedio"
   ]
  },
  {
   "cell_type": "code",
   "execution_count": null,
   "metadata": {},
   "outputs": [
    {
     "data": {
      "text/plain": [
       "np.float64(35.363389129985535)"
      ]
     },
     "execution_count": 534,
     "metadata": {},
     "output_type": "execute_result"
    }
   ],
   "source": [
    "df['price'].mean()"
   ]
  },
  {
   "cell_type": "markdown",
   "metadata": {},
   "source": [
    "**EJERCICIO 8**\n",
    "Precio más alto"
   ]
  },
  {
   "cell_type": "code",
   "execution_count": null,
   "metadata": {},
   "outputs": [
    {
     "data": {
      "text/plain": [
       "np.float64(3300.0)"
      ]
     },
     "execution_count": 535,
     "metadata": {},
     "output_type": "execute_result"
    }
   ],
   "source": [
    "\n",
    "df['price'].max()"
   ]
  },
  {
   "cell_type": "markdown",
   "metadata": {},
   "source": [
    "**EJERCICIO 9**\n",
    "Solo vinos de california"
   ]
  },
  {
   "cell_type": "code",
   "execution_count": 8,
   "metadata": {},
   "outputs": [
    {
     "data": {
      "text/plain": [
       "(54504, 14)"
      ]
     },
     "execution_count": 8,
     "metadata": {},
     "output_type": "execute_result"
    }
   ],
   "source": [
    "Vinos_california = df[df['country']=='US']\n",
    "Vinos_california.shape"
   ]
  },
  {
   "cell_type": "markdown",
   "metadata": {},
   "source": [
    "**EJERCICIO 10**\n",
    "Índice del vino con el precio más alto y su información "
   ]
  },
  {
   "cell_type": "code",
   "execution_count": null,
   "metadata": {},
   "outputs": [
    {
     "name": "stdout",
     "output_type": "stream",
     "text": [
      "El vino más caro de California es:\n",
      "Unnamed: 0                                                           80290\n",
      "country                                                             France\n",
      "description              This ripe wine shows plenty of blackberry frui...\n",
      "designation                                                            NaN\n",
      "points                                                                  88\n",
      "price                                                               3300.0\n",
      "province                                                          Bordeaux\n",
      "region_1                                                            MÃ©doc\n",
      "region_2                                                               NaN\n",
      "taster_name                                                     Roger Voss\n",
      "taster_twitter_handle                                           @vossroger\n",
      "title                               ChÃ¢teau les Ormes Sorbet 2013  MÃ©doc\n",
      "variety                                           Bordeaux-style Red Blend\n",
      "winery                                           ChÃ¢teau les Ormes Sorbet\n",
      "Name: 80290, dtype: object\n"
     ]
    }
   ],
   "source": [
    "indice_mas_caro = df['price'].idxmax() # Encontrar el índice del vino con el precio más alto\n",
    "vino_mas_caro = df.loc[indice_mas_caro] # Obtener toda la información de ese vino\n",
    "\n",
    "# Mostrar el resultado\n",
    "print(\"El vino más caro de California es:\")\n",
    "print(vino_mas_caro)"
   ]
  },
  {
   "cell_type": "markdown",
   "metadata": {},
   "source": [
    "**EJERCICIO 11**\n",
    "Tipos de uvas más comunes"
   ]
  },
  {
   "cell_type": "code",
   "execution_count": null,
   "metadata": {},
   "outputs": [
    {
     "data": {
      "text/plain": [
       "variety\n",
       "Pinot Noir                       9885\n",
       "Cabernet Sauvignon               7315\n",
       "Chardonnay                       6801\n",
       "Syrah                            3244\n",
       "Red Blend                        2972\n",
       "                                 ... \n",
       "Cabernet Sauvignon-CarmenÃ¨re       1\n",
       "Syrah-Petit Verdot                  1\n",
       "Negroamaro                          1\n",
       "Moscato Giallo                      1\n",
       "Alvarinho                           1\n",
       "Name: count, Length: 257, dtype: int64"
      ]
     },
     "execution_count": 538,
     "metadata": {},
     "output_type": "execute_result"
    }
   ],
   "source": [
    "uvas_mas_comunes = Vinos_california['variety'].value_counts().sort_values(ascending=False) # Sobre la base del ejercicio 9 hago el filtro\n",
    "uvas_mas_comunes"
   ]
  },
  {
   "cell_type": "markdown",
   "metadata": {},
   "source": [
    "**EJERCICIO 12**\n",
    "Los 10 tipos de uvas más comunes en California"
   ]
  },
  {
   "cell_type": "code",
   "execution_count": null,
   "metadata": {},
   "outputs": [
    {
     "data": {
      "text/plain": [
       "variety\n",
       "Pinot Noir                  9885\n",
       "Cabernet Sauvignon          7315\n",
       "Chardonnay                  6801\n",
       "Syrah                       3244\n",
       "Red Blend                   2972\n",
       "Zinfandel                   2711\n",
       "Merlot                      2311\n",
       "Sauvignon Blanc             2163\n",
       "Bordeaux-style Red Blend    1824\n",
       "Riesling                    1753\n",
       "Name: count, dtype: int64"
      ]
     },
     "execution_count": 539,
     "metadata": {},
     "output_type": "execute_result"
    }
   ],
   "source": [
    "uvas_mas_comunes.head(10)"
   ]
  }
 ],
 "metadata": {
  "kernelspec": {
   "display_name": "Python 3",
   "language": "python",
   "name": "python3"
  },
  "language_info": {
   "codemirror_mode": {
    "name": "ipython",
    "version": 3
   },
   "file_extension": ".py",
   "mimetype": "text/x-python",
   "name": "python",
   "nbconvert_exporter": "python",
   "pygments_lexer": "ipython3",
   "version": "3.12.1"
  }
 },
 "nbformat": 4,
 "nbformat_minor": 2
}
